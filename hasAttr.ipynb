{
  "nbformat": 4,
  "nbformat_minor": 0,
  "metadata": {
    "colab": {
      "name": "Untitled4.ipynb",
      "provenance": [],
      "authorship_tag": "ABX9TyMgabzIERmCK9QfhAMxOViC",
      "include_colab_link": true
    },
    "kernelspec": {
      "name": "python3",
      "display_name": "Python 3"
    }
  },
  "cells": [
    {
      "cell_type": "markdown",
      "metadata": {
        "id": "view-in-github",
        "colab_type": "text"
      },
      "source": [
        "<a href=\"https://colab.research.google.com/github/vinay784/achar_repo/blob/MYfirstBranch/hasAttr.ipynb\" target=\"_parent\"><img src=\"https://colab.research.google.com/assets/colab-badge.svg\" alt=\"Open In Colab\"/></a>"
      ]
    },
    {
      "cell_type": "code",
      "metadata": {
        "id": "atjibawAIXBt"
      },
      "source": [
        "import unittest\r\n",
        "\r\n",
        "\r\n",
        "class Employee:\r\n",
        "    \"\"\"A simple class that describes an employee of the company.\"\"\"\r\n",
        "\r\n",
        "    tax_rate = 0.17\r\n",
        "    bonus_rate = 0.10\r\n",
        "\r\n",
        "    def __init__(self, first_name, last_name, salary):\r\n",
        "        self.first_name = first_name\r\n",
        "        self.last_name = last_name\r\n",
        "        self.salary = salary\r\n",
        "\r\n",
        "    def __str__(self):\r\n",
        "        return f'{self.first_name} {self.last_name}'\r\n",
        "\r\n",
        "    @property\r\n",
        "    def email(self):\r\n",
        "        return f'{self.first_name.lower()}.{self.last_name.lower()}@mail.com'\r\n",
        "\r\n",
        "    @property\r\n",
        "    def tax(self):\r\n",
        "        return round(self.salary * self.tax_rate, 2)\r\n",
        "\r\n",
        "    def apply_bonus(self):\r\n",
        "        self.salary = int(self.salary * (1 + self.bonus_rate))\r\n",
        "\r\n",
        "\r\n",
        "class TestEmployee(unittest.TestCase):\r\n",
        "    def test_has_email_attr(self):\r\n",
        "        message=\"The employee class dont have an email attribute\"\r\n",
        "        print(\"Test class has attr email: \",hasattr(Employee,\"email\"))\r\n",
        "        self.assertTrue(hasattr(Employee,\"email\"),message)\r\n",
        "        \r\n",
        "    def test_has_tax_attr(self):\r\n",
        "        message=\"The employee class dont have an tax attribute\"\r\n",
        "        print(\"Test class has attr email: \",hasattr(Employee,\"tax\"))\r\n",
        "        self.assertTrue(hasattr(Employee,\"tax\"),message)\r\n",
        "        \r\n",
        "    def test_has_apply_bonus(self):\r\n",
        "        message=\"The employee class dont have an apply bonus attribute\"\r\n",
        "        print(\"Test class has attr email: \",hasattr(Employee,\"apply_bonus\"))\r\n",
        "        self.assertTrue(hasattr(Employee,\"apply_bonus\"),message)\r\n",
        "        \r\n",
        "# enter your solution here"
      ],
      "execution_count": 2,
      "outputs": []
    },
    {
      "cell_type": "code",
      "metadata": {
        "id": "oYLnKol9Iiq8"
      },
      "source": [
        ""
      ],
      "execution_count": null,
      "outputs": []
    }
  ]
}