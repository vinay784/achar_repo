{
  "nbformat": 4,
  "nbformat_minor": 0,
  "metadata": {
    "colab": {
      "name": "Untitled3.ipynb",
      "provenance": [],
      "authorship_tag": "ABX9TyNuVXHsbRBjDgSozTfv3xXX",
      "include_colab_link": true
    },
    "kernelspec": {
      "name": "python3",
      "display_name": "Python 3"
    }
  },
  "cells": [
    {
      "cell_type": "markdown",
      "metadata": {
        "id": "view-in-github",
        "colab_type": "text"
      },
      "source": [
        "<a href=\"https://colab.research.google.com/github/vinay784/achar_repo/blob/MYfirstBranch/assertGreater.ipynb\" target=\"_parent\"><img src=\"https://colab.research.google.com/assets/colab-badge.svg\" alt=\"Open In Colab\"/></a>"
      ]
    },
    {
      "cell_type": "code",
      "metadata": {
        "id": "jNmcugzzj1Jk"
      },
      "source": [
        "import unittest\r\n",
        " \r\n",
        " \r\n",
        "class TestLstripMethod(unittest.TestCase):\r\n",
        " \r\n",
        "    def test_lstrip_with_space(self):\r\n",
        "        self.assertEqual('  price,volume  '.lstrip(), 'price,volume  ')\r\n",
        " \r\n",
        "    def test_lstrip_with_new_line_char(self):\r\n",
        "        self.assertEqual('\\nprice,volume\\n'.lstrip(), 'price,volume\\n')\r\n",
        " \r\n",
        " \r\n",
        "class TestStripMethod(unittest.TestCase):\r\n",
        " \r\n",
        "    def test_strip_with_space(self):\r\n",
        "        self.assertEqual('  price,volume  '.strip(), 'price,volume')\r\n",
        " \r\n",
        "    def test_strip_with_new_line_char(self):\r\n",
        "        self.assertEqual('\\nprice,volume\\n'.strip(), 'price,volume')\r\n",
        " \r\n",
        " \r\n",
        "class TestRstripMethod(unittest.TestCase):\r\n",
        " \r\n",
        "    def test_rstrip_with_space(self):\r\n",
        "        self.assertEqual('  price,volume  '.rstrip(), '  price,volume')\r\n",
        " \r\n",
        "    def test_rstrip_with_new_line_char(self):\r\n",
        "        self.assertEqual('\\nprice,volume\\n'.rstrip(), '\\nprice,volume')\r\n",
        "Fullscreen\r\n"
      ],
      "execution_count": null,
      "outputs": []
    },
    {
      "cell_type": "code",
      "metadata": {
        "id": "WK050oSUKVv3"
      },
      "source": [
        "import unittest\r\n",
        "\r\n",
        "\r\n",
        "class Doc:\r\n",
        "\r\n",
        "    def __init__(self, string):\r\n",
        "        self.string = string\r\n",
        "        \r\n",
        "    def __repr__(self):\r\n",
        "        return f\"Doc(string='{self.string}')\"\r\n",
        "\r\n",
        "    def __lt__(self, other):\r\n",
        "        return len(self.string) < len(other.string)\r\n",
        "\r\n",
        "class TestDoc(unittest.TestCase):\r\n",
        "    def test_less_than(self):\r\n",
        "         \r\n",
        "        doc1=Doc(\"Technology\")\r\n",
        "        doc2=Doc(\"Online\")\r\n",
        "        doc3=Doc(\"Nature\")\r\n",
        "        self.assertLess(doc2,doc1)\r\n",
        "        self.assertLess(doc3,doc1)\r\n",
        "        \r\n",
        "    def test_greater_than(self):\r\n",
        "        \r\n",
        "        doc1=Doc(\"Technology\")\r\n",
        "        doc2=Doc(\"Online\")\r\n",
        "        doc3=Doc(\"Nature\")\r\n",
        "        self.assertGreater(doc1,doc2)\r\n",
        "        self.assertGreater(doc1,doc3)\r\n",
        "        \r\n",
        "        \r\n",
        "\r\n",
        "# enter your solution here"
      ],
      "execution_count": null,
      "outputs": []
    }
  ]
}