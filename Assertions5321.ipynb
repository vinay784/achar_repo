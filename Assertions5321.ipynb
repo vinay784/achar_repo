{
  "nbformat": 4,
  "nbformat_minor": 0,
  "metadata": {
    "colab": {
      "name": "Untitled2.ipynb",
      "provenance": [],
      "authorship_tag": "ABX9TyMLHGMrZiJjAKMjDFbBxa3n",
      "include_colab_link": true
    },
    "kernelspec": {
      "name": "python3",
      "display_name": "Python 3"
    }
  },
  "cells": [
    {
      "cell_type": "markdown",
      "metadata": {
        "id": "view-in-github",
        "colab_type": "text"
      },
      "source": [
        "<a href=\"https://colab.research.google.com/github/vinay784/achar_repo/blob/MYfirstBranch/Assertions5321.ipynb\" target=\"_parent\"><img src=\"https://colab.research.google.com/assets/colab-badge.svg\" alt=\"Open In Colab\"/></a>"
      ]
    },
    {
      "cell_type": "code",
      "metadata": {
        "id": "zZmyb6IfJcfD"
      },
      "source": [
        "import unittest\r\n",
        " \r\n",
        " \r\n",
        "class TestUpper(unittest.TestCase):\r\n",
        " \r\n",
        "    def test_upper(self):\r\n",
        "        self.assertEqual('summer'.upper(), 'SUMMER')\r\n",
        " \r\n",
        "    def test_is_upper(self):\r\n",
        "        self.assertTrue('SUMMER'.isupper())\r\n",
        "        self.assertFalse('summer'.isupper())"
      ],
      "execution_count": 2,
      "outputs": []
    },
    {
      "cell_type": "code",
      "metadata": {
        "id": "pug4sOeaZpOh"
      },
      "source": [
        "import unittest\r\n",
        "\r\n",
        "class TestStartswithMethod(unittest.TestCase):\r\n",
        "    def test_startswith_one_letter(self):\r\n",
        "        self.assertTrue('unittest'.startswith('u'),True)\r\n",
        "        \r\n",
        "        self.assertTrue('unittest'.startswith('U'),False)\r\n",
        "    def test_startswith_four_letters(self):\r\n",
        "        self.assertTrue('http://www.e-smartdata.org/'.startswith('http'),True)\r\n",
        "        self.assertTrue('http://www.e-smartdata.org/'.startswith('http'),False)\r\n",
        "        \r\n",
        "class TestEndswithMethod(unittest.TestCase):\r\n",
        "    def test_endswith_three_letter(self):\r\n",
        "        self.assertTrue('e-smartdata.org'.endswith('org'),True)\r\n",
        "        self.assertTrue('e-smartdata.org'.endswith('com'),False)"
      ],
      "execution_count": 6,
      "outputs": []
    },
    {
      "cell_type": "code",
      "metadata": {
        "id": "haSQ-Baoqq9I"
      },
      "source": [
        "import unittest\r\n",
        "\r\n",
        "class TestLstripMethod(unittest.TestCase):\r\n",
        "    str = \"---geeksforgeeks---\"\r\n",
        "    def Testlstrip(self):\r\n",
        "        self.print(' left strip of str is: ',str.lstrip('-'))\r\n",
        "class TeststripMethod(unittest.TestCase):\r\n",
        "    def testStrip(self):\r\n",
        "        self.print('strip of str is: ',str.strip() ):        \r\n",
        "class TestRstripMethod(unittest.TestCase):\r\n",
        "    def TestRstrip(self):\r\n",
        "      self.print('right strip of str is: ',str.rstrip('-'))\r\n",
        "# enter your solution here"
      ],
      "execution_count": null,
      "outputs": []
    },
    {
      "cell_type": "code",
      "metadata": {
        "id": "HfcNOX_ZZ5O4"
      },
      "source": [
        ""
      ],
      "execution_count": null,
      "outputs": []
    }
  ]
}