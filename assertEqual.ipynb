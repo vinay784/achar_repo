{
  "nbformat": 4,
  "nbformat_minor": 0,
  "metadata": {
    "colab": {
      "name": "Untitled2.ipynb",
      "provenance": [],
      "authorship_tag": "ABX9TyM4TPfgXuBrQV9KDqfdYQTi",
      "include_colab_link": true
    },
    "kernelspec": {
      "name": "python3",
      "display_name": "Python 3"
    }
  },
  "cells": [
    {
      "cell_type": "markdown",
      "metadata": {
        "id": "view-in-github",
        "colab_type": "text"
      },
      "source": [
        "<a href=\"https://colab.research.google.com/github/vinay784/achar_repo/blob/MYfirstBranch/assertEqual.ipynb\" target=\"_parent\"><img src=\"https://colab.research.google.com/assets/colab-badge.svg\" alt=\"Open In Colab\"/></a>"
      ]
    },
    {
      "cell_type": "code",
      "metadata": {
        "id": "zZmyb6IfJcfD"
      },
      "source": [
        "import unittest\r\n",
        " \r\n",
        " \r\n",
        "class TestUpper(unittest.TestCase):\r\n",
        " \r\n",
        "    def test_upper(self):\r\n",
        "        self.assertEqual('summer'.upper(), 'SUMMER')\r\n",
        " \r\n",
        "    def test_is_upper(self):\r\n",
        "        self.assertTrue('SUMMER'.isupper())\r\n",
        "        self.assertFalse('summer'.isupper())"
      ],
      "execution_count": 2,
      "outputs": []
    }
  ]
}